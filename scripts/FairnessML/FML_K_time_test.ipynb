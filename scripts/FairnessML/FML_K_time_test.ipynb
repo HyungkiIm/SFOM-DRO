{
 "cells": [
  {
   "cell_type": "markdown",
   "id": "7c050786",
   "metadata": {},
   "source": [
    "## Fairness  ML \n",
    "\n",
    "This script runs multiple SMD with different K values and FMD to compare the saddle point gap of these models (Figure 1)."
   ]
  },
  {
   "cell_type": "code",
   "execution_count": null,
   "id": "c961408b",
   "metadata": {},
   "outputs": [],
   "source": [
    "import sys\n",
    "\n",
    "# Add the path to the FairnessML package to the system path\n",
    "sys.path.append(r'..\\..\\src\\FairnessML')\n",
    "sys.path.append(r'..\\..\\src\\RBTree') "
   ]
  },
  {
   "cell_type": "code",
   "execution_count": null,
   "id": "e00b1624",
   "metadata": {},
   "outputs": [],
   "source": [
    "import os\n",
    "import numpy as np\n",
    "import pandas as pd\n",
    "import matplotlib.pyplot as plt\n",
    "import math\n",
    "from sklearn.model_selection import train_test_split\n",
    "from FML_test_functions import K_test_time"
   ]
  },
  {
   "cell_type": "code",
   "execution_count": null,
   "id": "e0db27c7",
   "metadata": {},
   "outputs": [],
   "source": [
    "# Change the working directory to the root of the data folder\n",
    "current_path = os.getcwd()\n",
    "parent_path = os.path.dirname(current_path)\n",
    "parent_path2 = os.path.dirname(parent_path)\n",
    "data_path = parent_path2 + '/data/adult/'\n",
    "\n",
    "#Read Adult Data\n",
    "poly_degree = 4 # poly_degree = 3,4\n",
    "df = pd.read_csv(data_path + 'adult_processed_poly={}.csv'.format(poly_degree), index_col=0)"
   ]
  },
  {
   "cell_type": "code",
   "execution_count": null,
   "id": "d23e0d38",
   "metadata": {
    "scrolled": true
   },
   "outputs": [],
   "source": [
    "df_np = df.to_numpy()\n",
    "\n",
    "#Only use the first 3e4 samples\n",
    "\n",
    "X = df_np[:,:-1]\n",
    "y = df_np[:,-1]\n",
    "n_samples = X.shape[0]\n",
    "n_sst = 45000\n",
    "\n",
    "\"\"\"\n",
    "Parameter Setting for the Experiment. Modify the below listed parameters for the experiment.\n",
    "    K_list_sst: list of K values to run the experiment. This should be the main parameter you may change for the experiment. Always end with n_sst which denotes running the FMD method.\n",
    "    dual_gap_freq_list: absolute frequency of checking dual gap, 250 for SMD, 50 for FMD. This should be the main parameter you may change for the experiment.\n",
    "    repeats_nt: number of repeats for each n\n",
    "    warm_start: warm start option for the algorithm\n",
    "    feas_opt: if 1 solve only a single feasibility problem, if 0 solve feasibility problem until we have objective value that satisfies the objective tolerance\n",
    "    time_cap_sst: time cap for each run\n",
    "    time_freq_sst: frequency of calculating duality gap\n",
    " \n",
    "\"\"\"\n",
    "\n",
    "seed_sst = 1234\n",
    "repeat_number = 3\n",
    "np.random.seed(seed_sst+repeat_number)\n",
    "#n_list_nt = np.linspace(10000,20000,11)\n",
    "c = 0.05 #Second and Third Constraint RHS\n",
    "\n",
    "repeats_sst = 2\n",
    "K_list_sst = [100, 200, n_sst] # list of K values to test, always end with n_sst which denotes running the FMD method.\n",
    "dual_gap_freq_list = [250,250,50] # absolute frequency of checking dual gap, 250 for SMD, 50 for FMD\n",
    "print_opt = 1\n",
    "warm_start = 0\n",
    "feas_opt =  1\n",
    "time_cap_sst = 120 # time cap for each run \n",
    "time_freq_sst = 5 # frequency of checking time\n",
    "\n",
    "\n",
    "data_list = []\n",
    "#Implement K_test_time\n",
    "for rep_idx in range(repeats_sst):\n",
    "    temp_list = []\n",
    "    X_train, X_test, y_train, y_test = train_test_split(X, y, train_size=n_sst / n_samples, shuffle=True,\n",
    "                                                        random_state=seed_sst+repeat_number)\n",
    "    for idx, K_sst in enumerate(K_list_sst):\n",
    "        stat = K_test_time(n_sst, X_train, y_train, c, time_cap_sst, time_freq_sst,dual_gap_freq_list[idx], K_sst, print_opt)\n",
    "        temp_list = [n_sst, poly_degree, K_sst, time_cap_sst, time_freq_sst]\n",
    "        temp_list.append(stat.dual_gap_list[0])\n",
    "        data_list.append(temp_list)\n",
    "\n",
    "df = pd.DataFrame(data_list, columns=['n', 'deg', 'K', 'time cap', 'time freq', 'Avg_Dual_Gap'])\n",
    "custom_path = '/results/FairnessML/K_time_result/K_test_time_n={}_poly={}_rdix={}.csv'.format(n_sst, poly_degree,\n",
    "                                                                                   repeat_number)\n",
    "save_path = parent_path2 + custom_path\n",
    "df.to_csv(save_path, index=False)\n",
    "\n",
    "\n",
    "\n",
    "\n",
    "\n",
    "\n"
   ]
  },
  {
   "cell_type": "code",
   "execution_count": null,
   "id": "5772e4b9",
   "metadata": {},
   "outputs": [],
   "source": []
  }
 ],
 "metadata": {
  "kernelspec": {
   "display_name": "Python 3.7",
   "language": "python",
   "name": "python3"
  },
  "language_info": {
   "codemirror_mode": {
    "name": "ipython",
    "version": 3
   },
   "file_extension": ".py",
   "mimetype": "text/x-python",
   "name": "python",
   "nbconvert_exporter": "python",
   "pygments_lexer": "ipython3",
   "version": "3.12.3"
  }
 },
 "nbformat": 4,
 "nbformat_minor": 5
}
