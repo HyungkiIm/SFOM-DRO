{
 "cells": [
  {
   "cell_type": "markdown",
   "metadata": {},
   "source": [
    "## Multi Item News Vendor\n",
    "\n",
    "This script runs SMD and FMD for different n values to compare the solving time (Figure 4)."
   ]
  },
  {
   "cell_type": "code",
   "execution_count": null,
   "metadata": {},
   "outputs": [],
   "source": [
    "import sys\n",
    "\n",
    "# Add the path to the FairnessML package to the system path\n",
    "sys.path.append(r'..\\..\\src\\MultiitemNV')\n",
    "sys.path.append(r'..\\..\\src\\RBTree') "
   ]
  },
  {
   "cell_type": "code",
   "execution_count": null,
   "metadata": {},
   "outputs": [],
   "source": [
    "import os\n",
    "import numpy as np\n",
    "import pandas as pd\n",
    "import matplotlib.pyplot as plt\n",
    "import math\n",
    "import time\n",
    "import gurobipy as gp\n",
    "from gurobipy import GRB\n",
    "from statistics import mean\n",
    "from tqdm import tqdm\n",
    "from MN_test_functions import n_num_test"
   ]
  },
  {
   "cell_type": "code",
   "execution_count": null,
   "metadata": {},
   "outputs": [],
   "source": [
    "current_path = os.getcwd()\n",
    "parent_path = os.path.dirname(current_path)\n",
    "parent_path2 = os.path.dirname(parent_path)"
   ]
  },
  {
   "cell_type": "code",
   "execution_count": null,
   "metadata": {
    "scrolled": true
   },
   "outputs": [],
   "source": [
    "\"\"\"\n",
    "Parameter Setting for the Experiment. Modify the below listed parameters for the experiment.\n",
    "    n_list_nt: list of n values to run the experiment. This should be the main parameter you may change for the experiment.\n",
    "    d_nt: number of assets\n",
    "    K_nt: per-iteration sample size K\n",
    "    repeats_nt: number of repeats for each n\n",
    "    warm_start: warm start option for the algorithm\n",
    "    feas_opt: if 1 solve only a single feasibility problem, if 0 solve feasibility problem until we have objective value that satisfies the objective tolerance\n",
    "\"\"\"\n",
    "\n",
    "n_list_nt = [3000,5000]\n",
    "\n",
    "seed_nt = 1234\n",
    "np.random.seed(seed_nt)\n",
    "#n_list_nt = np.linspace(10000,20000,11)\n",
    "d_nt = 10 #Number of assets\n",
    "beta_nt = 0.1\n",
    "\n",
    "repeats_nt = 1\n",
    "K_nt = 200\n",
    "print_opt = 1\n",
    "warm_start = 0 #0: no warm start, 1: warm start\n",
    "feas_opt =  0\n",
    "\n",
    "SMD_run_time_arr = np.zeros(repeats_nt)\n",
    "FMD_run_time_arr = np.zeros(repeats_nt)\n",
    "SMD_real_T_arr = np.zeros(repeats_nt)\n",
    "FMD_real_T_arr = np.zeros(repeats_nt)\n",
    "SMD_T_arr = np.zeros(repeats_nt)\n",
    "FMD_T_arr = np.zeros(repeats_nt)\n",
    "SMD_dualgap_time = np.zeros(repeats_nt)\n",
    "FMD_dualgap_time = np.zeros(repeats_nt)\n",
    "for n_num in n_list_nt:\n",
    "    for rep_idx in range(repeats_nt):\n",
    "        stat_SMD, stat_FMD, _ = n_num_test(int(n_num), d_nt, beta_nt, K_nt, print_opt = 1, feas_opt = feas_opt, warm_start=warm_start)\n",
    "        SMD_run_time_arr[rep_idx] = stat_SMD.total_solved_time\n",
    "        FMD_run_time_arr[rep_idx] = stat_FMD.total_solved_time\n",
    "        SMD_real_T_arr[rep_idx] = stat_SMD.real_T_list[0]\n",
    "        FMD_real_T_arr[rep_idx] = stat_FMD.real_T_list[0]\n",
    "        SMD_T_arr[rep_idx] = stat_SMD.max_iter\n",
    "        FMD_T_arr[rep_idx] = stat_FMD.max_iter\n",
    "        SMD_dualgap_time[rep_idx] = stat_SMD.dual_gap_time\n",
    "        FMD_dualgap_time[rep_idx] = stat_FMD.dual_gap_time\n",
    "    data_arr = np.vstack(\n",
    "        (SMD_run_time_arr, SMD_real_T_arr, SMD_T_arr,SMD_dualgap_time, FMD_run_time_arr, FMD_real_T_arr, FMD_T_arr,\n",
    "        FMD_dualgap_time)).T\n",
    "    df = pd.DataFrame(data_arr, columns=['SMD_Solve_time', 'SMD_Iter', 'SMD_Max_Iter','SMD_dual_time', \\\n",
    "                                         'FMD_Solve_time', 'FMD_Iter', 'FMD_Max_Iter','FMD_dual_time'])\n",
    "\n",
    "    custom_path = '/results/MultiitemNV/n_num_result/d={}_n={}_K={}.csv'.format(d_nt, n_num, K_nt)\n",
    "    save_path = parent_path2 + custom_path\n",
    "    df.to_csv(save_path, index=False)\n",
    "\n",
    "    \"\"\"\n",
    "    df contains the following columns:\n",
    "        Columns Regarding SMD:\n",
    "            SMD_Solve_time: Total time taken to solve the problem using SMD\n",
    "            SMD_Iter: Total number of iterations taken to solve the problem using SMD\n",
    "            SMD_Max_Iter: Maximum number of iterations for SMD\n",
    "            SMD_dual_time: Total time Computing Duality gap for SMD\n",
    "        Columns Regarding FMD:\n",
    "            FMD_Solve_time: Total time taken to solve the problem using FMD\n",
    "            FMD_Iter: Total number of iterations taken to solve the problem using FMD\n",
    "            FMD_Max_Iter: Maximum number of iterations for FMD\n",
    "            FMD_dual_time: Total time Computing Duality gap for FMD\n",
    "    \"\"\""
   ]
  },
  {
   "cell_type": "code",
   "execution_count": null,
   "metadata": {},
   "outputs": [],
   "source": []
  }
 ],
 "metadata": {
  "kernelspec": {
   "display_name": "Python 3.7",
   "language": "python",
   "name": "python3"
  },
  "language_info": {
   "codemirror_mode": {
    "name": "ipython",
    "version": 3
   },
   "file_extension": ".py",
   "mimetype": "text/x-python",
   "name": "python",
   "nbconvert_exporter": "python",
   "pygments_lexer": "ipython3",
   "version": "3.12.3"
  }
 },
 "nbformat": 4,
 "nbformat_minor": 2
}
