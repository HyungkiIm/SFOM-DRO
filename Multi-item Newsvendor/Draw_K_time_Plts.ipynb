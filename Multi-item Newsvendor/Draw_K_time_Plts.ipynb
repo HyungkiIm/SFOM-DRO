{
 "cells": [
  {
   "cell_type": "code",
   "execution_count": null,
   "id": "44b858ff",
   "metadata": {},
   "outputs": [],
   "source": [
    "import matplotlib.pyplot as plt\n",
    "import pandas as pd\n",
    "import numpy as np\n",
    "import os\n",
    "import json\n",
    "\n",
    "current_path = os.getcwd()\n",
    "parent_path = os.path.dirname(current_path)\n",
    "wrk_path = parent_path + '/results/'\n",
    "\n",
    "df = pd.read_csv(wrk_path + 'prll_K_test_time_n=5000d=100_m=2.csv')\n",
    "time_cap = df['time cap'][0]\n",
    "time_freq = df['time freq'][0]\n",
    "x_axis = [0]\n",
    "iter_count = 1\n",
    "for i in range(int(time_cap / time_freq)):\n",
    "    x_axis.append(iter_count * time_freq)\n",
    "    iter_count += 1\n",
    "n = df['n'][0]\n",
    "\n",
    "for i in range(len(df)):\n",
    "    print(len(df['Avg_Dual_Gap'][i]))\n",
    "\n",
    "df['Avg_Dual_Gap'] = df['Avg_Dual_Gap'].apply(json.loads)\n",
    "df['time stamp'] = df['time stamp'].apply(json.loads)\n",
    "fig = plt.figure(figsize = (16,8))\n",
    "plt.rcParams.update({'font.size': 24})\n",
    "plt.ylabel('Duality Gap')\n",
    "plt.xlabel('cpu time')\n",
    "plt.title('n = %s Duality Gap' % n)\n",
    "\n",
    "iter = 5000\n",
    "\n",
    "for k_idx in range(df.shape[0]):\n",
    "    if df['K'][k_idx] == n:\n",
    "        plt.plot(df['time stamp'][k_idx][:iter], df['Avg_Dual_Gap'][k_idx][:iter], label='OFO-based')\n",
    "    elif df['K'][k_idx] == n/2:\n",
    "        plt.plot(x_axis[:iter], df['Avg_Dual_Gap'][k_idx][:iter], label='K=n/2')\n",
    "    else:\n",
    "        plt.plot(x_axis[:iter],df['Avg_Dual_Gap'][k_idx][:iter], label = 'K={}'.format(df['K'][k_idx]))\n",
    "plt.legend(loc=\"upper right\")\n",
    "plt.tick_params(axis = 'y',direction='in')\n",
    "plt.tick_params(axis = 'x',direction='in')\n",
    "plt.show()\n"
   ]
  }
 ],
 "metadata": {
  "kernelspec": {
   "display_name": "Python 3",
   "language": "python",
   "name": "python3"
  },
  "language_info": {
   "codemirror_mode": {
    "name": "ipython",
    "version": 3
   },
   "file_extension": ".py",
   "mimetype": "text/x-python",
   "name": "python",
   "nbconvert_exporter": "python",
   "pygments_lexer": "ipython3",
   "version": "3.8.8"
  }
 },
 "nbformat": 4,
 "nbformat_minor": 5
}
